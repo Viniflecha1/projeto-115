{
  "nbformat": 4,
  "nbformat_minor": 0,
  "metadata": {
    "colab": {
      "name": "PRO C115 Project Solution PT.ipynb",
      "provenance": [],
      "collapsed_sections": []
    },
    "kernelspec": {
      "name": "python3",
      "display_name": "Python 3"
    },
    "language_info": {
      "name": "python"
    }
  },
  "cells": [
    {
      "cell_type": "markdown",
      "source": [
        "**Descrição do Projeto :**\n",
        "\n",
        "1) No Google Colab, você precisa importar o conjunto de dados de produtos.\n",
        "\n",
        "2) Execute operações de tokenização e preenchimento no conjunto de dados.\n",
        "\n",
        "3) Crie um modelo de aprendizado de máquina a partir dele.\n",
        "\n",
        "4) Preveja os sentimentos associados às avaliações dos clientes usando esse modelo.\n",
        "\n",
        "5) Assim que isso funcionar no Google Colab, você pode baixar o modelo e o conjunto de dados e experimentá-lo também no editor do Visual Studio Code.\n",
        "\n",
        "6) Se você quiser experimentá-lo também no editor do Visual Studio Code, o link para a solução do projeto é fornecido na última célula."
      ],
      "metadata": {
        "id": "zwID_LXobhvb"
      }
    },
    {
      "cell_type": "code",
      "execution_count": null,
      "metadata": {
        "colab": {
          "base_uri": "https://localhost:8080/"
        },
        "id": "tIntWdKdvGKX",
        "outputId": "76df7fcd-f8e7-4fa0-f6de-65e01bddb532"
      },
      "outputs": [
        {
          "output_type": "stream",
          "name": "stdout",
          "text": [
            "Cloning into 'PRO_1-1_C115_ProductDataset'...\n",
            "remote: Enumerating objects: 6, done.\u001b[K\n",
            "remote: Counting objects: 100% (6/6), done.\u001b[K\n",
            "remote: Compressing objects: 100% (4/4), done.\u001b[K\n",
            "remote: Total 6 (delta 1), reused 6 (delta 1), pack-reused 0\u001b[K\n",
            "Unpacking objects: 100% (6/6), done.\n"
          ]
        }
      ],
      "source": [
        "\n",
        "!git clone https://github.com/ByjusBrazil/PRO_1-1_C115_ProductDataset"
      ]
    },
    {
      "cell_type": "code",
      "source": [
        "import pandas as pd\n",
        "dataframe = pd.read_excel(\"/content/PRO_1-1_C115_ProductDataset/updated_product_dataset.xlsx\")\n",
        "dataframe.head()"
      ],
      "metadata": {
        "colab": {
          "base_uri": "https://localhost:8080/",
          "height": 206
        },
        "id": "48tzbjM4vzHg",
        "outputId": "ba8a9922-564e-4da6-9448-000615adc8e5"
      },
      "execution_count": null,
      "outputs": [
        {
          "output_type": "execute_result",
          "data": {
            "text/plain": [
              "     Emoção                                              Texto\n",
              "0  Positiva  ótimo pad amo ddr não quero pad de metal funci...\n",
              "1  Positiva  excelente pad ótimo produto altamente responsi...\n",
              "2  Positiva  incrível ótimo ddr pad funciona perfeitamente ...\n",
              "3  Positiva  amo esperar deslizamento não muito feliz dia 1...\n",
              "4  Positiva  preço de boa qualidade preço de boa qualidade ..."
            ],
            "text/html": [
              "\n",
              "  <div id=\"df-515d1e6f-cc55-4780-92f5-cc40ece55003\">\n",
              "    <div class=\"colab-df-container\">\n",
              "      <div>\n",
              "<style scoped>\n",
              "    .dataframe tbody tr th:only-of-type {\n",
              "        vertical-align: middle;\n",
              "    }\n",
              "\n",
              "    .dataframe tbody tr th {\n",
              "        vertical-align: top;\n",
              "    }\n",
              "\n",
              "    .dataframe thead th {\n",
              "        text-align: right;\n",
              "    }\n",
              "</style>\n",
              "<table border=\"1\" class=\"dataframe\">\n",
              "  <thead>\n",
              "    <tr style=\"text-align: right;\">\n",
              "      <th></th>\n",
              "      <th>Emoção</th>\n",
              "      <th>Texto</th>\n",
              "    </tr>\n",
              "  </thead>\n",
              "  <tbody>\n",
              "    <tr>\n",
              "      <th>0</th>\n",
              "      <td>Positiva</td>\n",
              "      <td>ótimo pad amo ddr não quero pad de metal funci...</td>\n",
              "    </tr>\n",
              "    <tr>\n",
              "      <th>1</th>\n",
              "      <td>Positiva</td>\n",
              "      <td>excelente pad ótimo produto altamente responsi...</td>\n",
              "    </tr>\n",
              "    <tr>\n",
              "      <th>2</th>\n",
              "      <td>Positiva</td>\n",
              "      <td>incrível ótimo ddr pad funciona perfeitamente ...</td>\n",
              "    </tr>\n",
              "    <tr>\n",
              "      <th>3</th>\n",
              "      <td>Positiva</td>\n",
              "      <td>amo esperar deslizamento não muito feliz dia 1...</td>\n",
              "    </tr>\n",
              "    <tr>\n",
              "      <th>4</th>\n",
              "      <td>Positiva</td>\n",
              "      <td>preço de boa qualidade preço de boa qualidade ...</td>\n",
              "    </tr>\n",
              "  </tbody>\n",
              "</table>\n",
              "</div>\n",
              "      <button class=\"colab-df-convert\" onclick=\"convertToInteractive('df-515d1e6f-cc55-4780-92f5-cc40ece55003')\"\n",
              "              title=\"Convert this dataframe to an interactive table.\"\n",
              "              style=\"display:none;\">\n",
              "        \n",
              "  <svg xmlns=\"http://www.w3.org/2000/svg\" height=\"24px\"viewBox=\"0 0 24 24\"\n",
              "       width=\"24px\">\n",
              "    <path d=\"M0 0h24v24H0V0z\" fill=\"none\"/>\n",
              "    <path d=\"M18.56 5.44l.94 2.06.94-2.06 2.06-.94-2.06-.94-.94-2.06-.94 2.06-2.06.94zm-11 1L8.5 8.5l.94-2.06 2.06-.94-2.06-.94L8.5 2.5l-.94 2.06-2.06.94zm10 10l.94 2.06.94-2.06 2.06-.94-2.06-.94-.94-2.06-.94 2.06-2.06.94z\"/><path d=\"M17.41 7.96l-1.37-1.37c-.4-.4-.92-.59-1.43-.59-.52 0-1.04.2-1.43.59L10.3 9.45l-7.72 7.72c-.78.78-.78 2.05 0 2.83L4 21.41c.39.39.9.59 1.41.59.51 0 1.02-.2 1.41-.59l7.78-7.78 2.81-2.81c.8-.78.8-2.07 0-2.86zM5.41 20L4 18.59l7.72-7.72 1.47 1.35L5.41 20z\"/>\n",
              "  </svg>\n",
              "      </button>\n",
              "      \n",
              "  <style>\n",
              "    .colab-df-container {\n",
              "      display:flex;\n",
              "      flex-wrap:wrap;\n",
              "      gap: 12px;\n",
              "    }\n",
              "\n",
              "    .colab-df-convert {\n",
              "      background-color: #E8F0FE;\n",
              "      border: none;\n",
              "      border-radius: 50%;\n",
              "      cursor: pointer;\n",
              "      display: none;\n",
              "      fill: #1967D2;\n",
              "      height: 32px;\n",
              "      padding: 0 0 0 0;\n",
              "      width: 32px;\n",
              "    }\n",
              "\n",
              "    .colab-df-convert:hover {\n",
              "      background-color: #E2EBFA;\n",
              "      box-shadow: 0px 1px 2px rgba(60, 64, 67, 0.3), 0px 1px 3px 1px rgba(60, 64, 67, 0.15);\n",
              "      fill: #174EA6;\n",
              "    }\n",
              "\n",
              "    [theme=dark] .colab-df-convert {\n",
              "      background-color: #3B4455;\n",
              "      fill: #D2E3FC;\n",
              "    }\n",
              "\n",
              "    [theme=dark] .colab-df-convert:hover {\n",
              "      background-color: #434B5C;\n",
              "      box-shadow: 0px 1px 3px 1px rgba(0, 0, 0, 0.15);\n",
              "      filter: drop-shadow(0px 1px 2px rgba(0, 0, 0, 0.3));\n",
              "      fill: #FFFFFF;\n",
              "    }\n",
              "  </style>\n",
              "\n",
              "      <script>\n",
              "        const buttonEl =\n",
              "          document.querySelector('#df-515d1e6f-cc55-4780-92f5-cc40ece55003 button.colab-df-convert');\n",
              "        buttonEl.style.display =\n",
              "          google.colab.kernel.accessAllowed ? 'block' : 'none';\n",
              "\n",
              "        async function convertToInteractive(key) {\n",
              "          const element = document.querySelector('#df-515d1e6f-cc55-4780-92f5-cc40ece55003');\n",
              "          const dataTable =\n",
              "            await google.colab.kernel.invokeFunction('convertToInteractive',\n",
              "                                                     [key], {});\n",
              "          if (!dataTable) return;\n",
              "\n",
              "          const docLinkHtml = 'Like what you see? Visit the ' +\n",
              "            '<a target=\"_blank\" href=https://colab.research.google.com/notebooks/data_table.ipynb>data table notebook</a>'\n",
              "            + ' to learn more about interactive tables.';\n",
              "          element.innerHTML = '';\n",
              "          dataTable['output_type'] = 'display_data';\n",
              "          await google.colab.output.renderOutput(dataTable, element);\n",
              "          const docLink = document.createElement('div');\n",
              "          docLink.innerHTML = docLinkHtml;\n",
              "          element.appendChild(docLink);\n",
              "        }\n",
              "      </script>\n",
              "    </div>\n",
              "  </div>\n",
              "  "
            ]
          },
          "metadata": {},
          "execution_count": 2
        }
      ]
    },
    {
      "cell_type": "code",
      "source": [
        "dataframe[\"Emoção\"].unique()"
      ],
      "metadata": {
        "colab": {
          "base_uri": "https://localhost:8080/"
        },
        "id": "kOA1GZHqvzMM",
        "outputId": "9021c050-fad5-437f-adbe-a159137b864f"
      },
      "execution_count": null,
      "outputs": [
        {
          "output_type": "execute_result",
          "data": {
            "text/plain": [
              "array(['Positiva', 'Negativa', 'Neutra'], dtype=object)"
            ]
          },
          "metadata": {},
          "execution_count": 3
        }
      ]
    },
    {
      "cell_type": "code",
      "source": [
        "encode_emotions = {\"Neutra\": 0, \"Positiva\": 1, \"Negativa\": 2}"
      ],
      "metadata": {
        "id": "s1EjYd5WvzOE"
      },
      "execution_count": null,
      "outputs": []
    },
    {
      "cell_type": "code",
      "source": [
        "dataframe.replace(encode_emotions, inplace = True)\n",
        "dataframe.head()"
      ],
      "metadata": {
        "colab": {
          "base_uri": "https://localhost:8080/",
          "height": 206
        },
        "id": "c60PGpy8vzUk",
        "outputId": "8712c14f-69cc-406a-f327-8a5d22f84431"
      },
      "execution_count": null,
      "outputs": [
        {
          "output_type": "execute_result",
          "data": {
            "text/plain": [
              "   Emoção                                              Texto\n",
              "0       1  ótimo pad amo ddr não quero pad de metal funci...\n",
              "1       1  excelente pad ótimo produto altamente responsi...\n",
              "2       1  incrível ótimo ddr pad funciona perfeitamente ...\n",
              "3       1  amo esperar deslizamento não muito feliz dia 1...\n",
              "4       1  preço de boa qualidade preço de boa qualidade ..."
            ],
            "text/html": [
              "\n",
              "  <div id=\"df-983ef159-1129-4ebd-94e9-d8343b235768\">\n",
              "    <div class=\"colab-df-container\">\n",
              "      <div>\n",
              "<style scoped>\n",
              "    .dataframe tbody tr th:only-of-type {\n",
              "        vertical-align: middle;\n",
              "    }\n",
              "\n",
              "    .dataframe tbody tr th {\n",
              "        vertical-align: top;\n",
              "    }\n",
              "\n",
              "    .dataframe thead th {\n",
              "        text-align: right;\n",
              "    }\n",
              "</style>\n",
              "<table border=\"1\" class=\"dataframe\">\n",
              "  <thead>\n",
              "    <tr style=\"text-align: right;\">\n",
              "      <th></th>\n",
              "      <th>Emoção</th>\n",
              "      <th>Texto</th>\n",
              "    </tr>\n",
              "  </thead>\n",
              "  <tbody>\n",
              "    <tr>\n",
              "      <th>0</th>\n",
              "      <td>1</td>\n",
              "      <td>ótimo pad amo ddr não quero pad de metal funci...</td>\n",
              "    </tr>\n",
              "    <tr>\n",
              "      <th>1</th>\n",
              "      <td>1</td>\n",
              "      <td>excelente pad ótimo produto altamente responsi...</td>\n",
              "    </tr>\n",
              "    <tr>\n",
              "      <th>2</th>\n",
              "      <td>1</td>\n",
              "      <td>incrível ótimo ddr pad funciona perfeitamente ...</td>\n",
              "    </tr>\n",
              "    <tr>\n",
              "      <th>3</th>\n",
              "      <td>1</td>\n",
              "      <td>amo esperar deslizamento não muito feliz dia 1...</td>\n",
              "    </tr>\n",
              "    <tr>\n",
              "      <th>4</th>\n",
              "      <td>1</td>\n",
              "      <td>preço de boa qualidade preço de boa qualidade ...</td>\n",
              "    </tr>\n",
              "  </tbody>\n",
              "</table>\n",
              "</div>\n",
              "      <button class=\"colab-df-convert\" onclick=\"convertToInteractive('df-983ef159-1129-4ebd-94e9-d8343b235768')\"\n",
              "              title=\"Convert this dataframe to an interactive table.\"\n",
              "              style=\"display:none;\">\n",
              "        \n",
              "  <svg xmlns=\"http://www.w3.org/2000/svg\" height=\"24px\"viewBox=\"0 0 24 24\"\n",
              "       width=\"24px\">\n",
              "    <path d=\"M0 0h24v24H0V0z\" fill=\"none\"/>\n",
              "    <path d=\"M18.56 5.44l.94 2.06.94-2.06 2.06-.94-2.06-.94-.94-2.06-.94 2.06-2.06.94zm-11 1L8.5 8.5l.94-2.06 2.06-.94-2.06-.94L8.5 2.5l-.94 2.06-2.06.94zm10 10l.94 2.06.94-2.06 2.06-.94-2.06-.94-.94-2.06-.94 2.06-2.06.94z\"/><path d=\"M17.41 7.96l-1.37-1.37c-.4-.4-.92-.59-1.43-.59-.52 0-1.04.2-1.43.59L10.3 9.45l-7.72 7.72c-.78.78-.78 2.05 0 2.83L4 21.41c.39.39.9.59 1.41.59.51 0 1.02-.2 1.41-.59l7.78-7.78 2.81-2.81c.8-.78.8-2.07 0-2.86zM5.41 20L4 18.59l7.72-7.72 1.47 1.35L5.41 20z\"/>\n",
              "  </svg>\n",
              "      </button>\n",
              "      \n",
              "  <style>\n",
              "    .colab-df-container {\n",
              "      display:flex;\n",
              "      flex-wrap:wrap;\n",
              "      gap: 12px;\n",
              "    }\n",
              "\n",
              "    .colab-df-convert {\n",
              "      background-color: #E8F0FE;\n",
              "      border: none;\n",
              "      border-radius: 50%;\n",
              "      cursor: pointer;\n",
              "      display: none;\n",
              "      fill: #1967D2;\n",
              "      height: 32px;\n",
              "      padding: 0 0 0 0;\n",
              "      width: 32px;\n",
              "    }\n",
              "\n",
              "    .colab-df-convert:hover {\n",
              "      background-color: #E2EBFA;\n",
              "      box-shadow: 0px 1px 2px rgba(60, 64, 67, 0.3), 0px 1px 3px 1px rgba(60, 64, 67, 0.15);\n",
              "      fill: #174EA6;\n",
              "    }\n",
              "\n",
              "    [theme=dark] .colab-df-convert {\n",
              "      background-color: #3B4455;\n",
              "      fill: #D2E3FC;\n",
              "    }\n",
              "\n",
              "    [theme=dark] .colab-df-convert:hover {\n",
              "      background-color: #434B5C;\n",
              "      box-shadow: 0px 1px 3px 1px rgba(0, 0, 0, 0.15);\n",
              "      filter: drop-shadow(0px 1px 2px rgba(0, 0, 0, 0.3));\n",
              "      fill: #FFFFFF;\n",
              "    }\n",
              "  </style>\n",
              "\n",
              "      <script>\n",
              "        const buttonEl =\n",
              "          document.querySelector('#df-983ef159-1129-4ebd-94e9-d8343b235768 button.colab-df-convert');\n",
              "        buttonEl.style.display =\n",
              "          google.colab.kernel.accessAllowed ? 'block' : 'none';\n",
              "\n",
              "        async function convertToInteractive(key) {\n",
              "          const element = document.querySelector('#df-983ef159-1129-4ebd-94e9-d8343b235768');\n",
              "          const dataTable =\n",
              "            await google.colab.kernel.invokeFunction('convertToInteractive',\n",
              "                                                     [key], {});\n",
              "          if (!dataTable) return;\n",
              "\n",
              "          const docLinkHtml = 'Like what you see? Visit the ' +\n",
              "            '<a target=\"_blank\" href=https://colab.research.google.com/notebooks/data_table.ipynb>data table notebook</a>'\n",
              "            + ' to learn more about interactive tables.';\n",
              "          element.innerHTML = '';\n",
              "          dataTable['output_type'] = 'display_data';\n",
              "          await google.colab.output.renderOutput(dataTable, element);\n",
              "          const docLink = document.createElement('div');\n",
              "          docLink.innerHTML = docLinkHtml;\n",
              "          element.appendChild(docLink);\n",
              "        }\n",
              "      </script>\n",
              "    </div>\n",
              "  </div>\n",
              "  "
            ]
          },
          "metadata": {},
          "execution_count": 5
        }
      ]
    },
    {
      "cell_type": "code",
      "source": [
        "# Converta o Dataframe em uma lista de conjuntos de dados\n",
        "\n",
        "training_sentences = []\n",
        "training_labels = []\n",
        "\n",
        "for i in range(len(dataframe)):\n",
        "  sentence = dataframe.loc[i, \"Texto\"]\n",
        "  training_sentences.append(sentence)\n",
        "  label = dataframe.loc[i, \"Emoção\"]\n",
        "  training_labels.append(label)\n"
      ],
      "metadata": {
        "id": "4UVD5WkBvzWY"
      },
      "execution_count": null,
      "outputs": []
    },
    {
      "cell_type": "code",
      "source": [
        "training_sentences[10], training_labels[10]"
      ],
      "metadata": {
        "colab": {
          "base_uri": "https://localhost:8080/"
        },
        "id": "NBGgKh1YvzaA",
        "outputId": "3e11f5cb-e7a6-41cc-ff82-8709498f55fc"
      },
      "execution_count": null,
      "outputs": [
        {
          "output_type": "execute_result",
          "data": {
            "text/plain": [
              "('decepcionado lento tirar fotos', 0)"
            ]
          },
          "metadata": {},
          "execution_count": 7
        }
      ]
    },
    {
      "cell_type": "code",
      "source": [
        "# Tokenização: importe o Tokenizer do tensorflow\n",
        "\n",
        "import tensorflow as tf\n",
        "\n",
        "from tensorflow.keras.preprocessing.text import Tokenizer\n",
        "\n",
        "# Defina os parâmetros do Tokenizer\n",
        "vocab_size = 40000\n",
        "embedding_dim = 16\n",
        "oov_tok = \"<OOV>\"\n",
        "training_size = 20000\n",
        "\n",
        "tokenizer = Tokenizer(num_words=vocab_size, oov_token=oov_tok)\n",
        "tokenizer.fit_on_texts(training_sentences)\n",
        "\n",
        "# Crie um dicionário chamado word_index\n",
        "word_index = tokenizer.word_index\n",
        "\n",
        "training_sequences = tokenizer.texts_to_sequences(training_sentences)"
      ],
      "metadata": {
        "id": "Al2dkMbubGvR"
      },
      "execution_count": null,
      "outputs": []
    },
    {
      "cell_type": "code",
      "source": [
        "# Defina os parâmetros das pad_sequences\n",
        "from tensorflow.keras.preprocessing.sequence import pad_sequences\n",
        "\n",
        "padding_type='post'\n",
        "max_length = 100\n",
        "trunc_type='post'\n",
        "\n",
        "\n",
        "training_padded = pad_sequences(training_sequences, maxlen=max_length, \n",
        "                                padding=padding_type, truncating=trunc_type)"
      ],
      "metadata": {
        "id": "Ck6NJ4ALbi5c"
      },
      "execution_count": null,
      "outputs": []
    },
    {
      "cell_type": "code",
      "source": [
        "import numpy as np\n",
        "\n",
        "training_padded = np.array(training_padded)\n",
        "training_labels = np.array(training_labels)"
      ],
      "metadata": {
        "id": "dW3amuo-vzfE"
      },
      "execution_count": null,
      "outputs": []
    },
    {
      "cell_type": "code",
      "source": [
        "from tensorflow.keras.models import Sequential\n",
        "from tensorflow.keras.layers import Embedding, LSTM, Dense\n",
        "from tensorflow.keras.layers import Conv1D, Dropout, MaxPooling1D\n",
        "\n",
        "model = tf.keras.Sequential([\n",
        "        Embedding(vocab_size, embedding_dim, input_length=max_length),\n",
        "        Dropout(0.2),\n",
        "        Conv1D(filters = 256, kernel_size = 3, activation = \"relu\"),\n",
        "        MaxPooling1D(pool_size = 3),\n",
        "        Conv1D(filters = 128, kernel_size = 3, activation = \"relu\"),\n",
        "        MaxPooling1D(pool_size = 3),\n",
        "        LSTM(128),\n",
        "        Dense(128, activation = \"relu\"),\n",
        "        Dropout(0.2),\n",
        "        Dense(64, activation = \"relu\"),\n",
        "        Dense(3, activation = \"softmax\")\n",
        "])\n",
        "model.compile(loss='sparse_categorical_crossentropy',optimizer='adam',metrics=['accuracy'])"
      ],
      "metadata": {
        "id": "nMnoCTiXvzgm"
      },
      "execution_count": null,
      "outputs": []
    },
    {
      "cell_type": "code",
      "source": [
        "model.summary()"
      ],
      "metadata": {
        "colab": {
          "base_uri": "https://localhost:8080/"
        },
        "id": "E8YPbW6mvzk1",
        "outputId": "12d56938-a732-40f1-b937-f85a5f6236c3"
      },
      "execution_count": null,
      "outputs": [
        {
          "output_type": "stream",
          "name": "stdout",
          "text": [
            "Model: \"sequential\"\n",
            "_________________________________________________________________\n",
            " Layer (type)                Output Shape              Param #   \n",
            "=================================================================\n",
            " embedding (Embedding)       (None, 100, 16)           640000    \n",
            "                                                                 \n",
            " dropout (Dropout)           (None, 100, 16)           0         \n",
            "                                                                 \n",
            " conv1d (Conv1D)             (None, 98, 256)           12544     \n",
            "                                                                 \n",
            " max_pooling1d (MaxPooling1D  (None, 32, 256)          0         \n",
            " )                                                               \n",
            "                                                                 \n",
            " conv1d_1 (Conv1D)           (None, 30, 128)           98432     \n",
            "                                                                 \n",
            " max_pooling1d_1 (MaxPooling  (None, 10, 128)          0         \n",
            " 1D)                                                             \n",
            "                                                                 \n",
            " lstm (LSTM)                 (None, 128)               131584    \n",
            "                                                                 \n",
            " dense (Dense)               (None, 128)               16512     \n",
            "                                                                 \n",
            " dropout_1 (Dropout)         (None, 128)               0         \n",
            "                                                                 \n",
            " dense_1 (Dense)             (None, 64)                8256      \n",
            "                                                                 \n",
            " dense_2 (Dense)             (None, 3)                 195       \n",
            "                                                                 \n",
            "=================================================================\n",
            "Total params: 907,523\n",
            "Trainable params: 907,523\n",
            "Non-trainable params: 0\n",
            "_________________________________________________________________\n"
          ]
        }
      ]
    },
    {
      "cell_type": "code",
      "source": [
        "num_epochs = 30\n",
        "history = model.fit(training_padded, training_labels, epochs=num_epochs, verbose=2)"
      ],
      "metadata": {
        "colab": {
          "base_uri": "https://localhost:8080/"
        },
        "id": "DgX_fkNSwKxw",
        "outputId": "c3715f9c-6920-43e7-b8b8-08aafb611de8"
      },
      "execution_count": null,
      "outputs": [
        {
          "output_type": "stream",
          "name": "stdout",
          "text": [
            "Epoch 1/30\n",
            "1/1 - 3s - loss: 1.0989 - accuracy: 0.4667 - 3s/epoch - 3s/step\n",
            "Epoch 2/30\n",
            "1/1 - 0s - loss: 1.0994 - accuracy: 0.3333 - 40ms/epoch - 40ms/step\n",
            "Epoch 3/30\n",
            "1/1 - 0s - loss: 1.0998 - accuracy: 0.3333 - 40ms/epoch - 40ms/step\n",
            "Epoch 4/30\n",
            "1/1 - 0s - loss: 1.0999 - accuracy: 0.3333 - 38ms/epoch - 38ms/step\n",
            "Epoch 5/30\n",
            "1/1 - 0s - loss: 1.1012 - accuracy: 0.3333 - 39ms/epoch - 39ms/step\n",
            "Epoch 6/30\n",
            "1/1 - 0s - loss: 1.0976 - accuracy: 0.3333 - 38ms/epoch - 38ms/step\n",
            "Epoch 7/30\n",
            "1/1 - 0s - loss: 1.1006 - accuracy: 0.3333 - 37ms/epoch - 37ms/step\n",
            "Epoch 8/30\n",
            "1/1 - 0s - loss: 1.0982 - accuracy: 0.3333 - 38ms/epoch - 38ms/step\n",
            "Epoch 9/30\n",
            "1/1 - 0s - loss: 1.0997 - accuracy: 0.1333 - 38ms/epoch - 38ms/step\n",
            "Epoch 10/30\n",
            "1/1 - 0s - loss: 1.0990 - accuracy: 0.2667 - 43ms/epoch - 43ms/step\n",
            "Epoch 11/30\n",
            "1/1 - 0s - loss: 1.1016 - accuracy: 0.2000 - 39ms/epoch - 39ms/step\n",
            "Epoch 12/30\n",
            "1/1 - 0s - loss: 1.0982 - accuracy: 0.4667 - 37ms/epoch - 37ms/step\n",
            "Epoch 13/30\n",
            "1/1 - 0s - loss: 1.0993 - accuracy: 0.2000 - 38ms/epoch - 38ms/step\n",
            "Epoch 14/30\n",
            "1/1 - 0s - loss: 1.0986 - accuracy: 0.4667 - 36ms/epoch - 36ms/step\n",
            "Epoch 15/30\n",
            "1/1 - 0s - loss: 1.0979 - accuracy: 0.4000 - 37ms/epoch - 37ms/step\n",
            "Epoch 16/30\n",
            "1/1 - 0s - loss: 1.0945 - accuracy: 0.6000 - 37ms/epoch - 37ms/step\n",
            "Epoch 17/30\n",
            "1/1 - 0s - loss: 1.1009 - accuracy: 0.2000 - 42ms/epoch - 42ms/step\n",
            "Epoch 18/30\n",
            "1/1 - 0s - loss: 1.0978 - accuracy: 0.2000 - 41ms/epoch - 41ms/step\n",
            "Epoch 19/30\n",
            "1/1 - 0s - loss: 1.0985 - accuracy: 0.4000 - 37ms/epoch - 37ms/step\n",
            "Epoch 20/30\n",
            "1/1 - 0s - loss: 1.0959 - accuracy: 0.2667 - 45ms/epoch - 45ms/step\n",
            "Epoch 21/30\n",
            "1/1 - 0s - loss: 1.0974 - accuracy: 0.4000 - 35ms/epoch - 35ms/step\n",
            "Epoch 22/30\n",
            "1/1 - 0s - loss: 1.0979 - accuracy: 0.3333 - 40ms/epoch - 40ms/step\n",
            "Epoch 23/30\n",
            "1/1 - 0s - loss: 1.0952 - accuracy: 0.4667 - 48ms/epoch - 48ms/step\n",
            "Epoch 24/30\n",
            "1/1 - 0s - loss: 1.0980 - accuracy: 0.2000 - 40ms/epoch - 40ms/step\n",
            "Epoch 25/30\n",
            "1/1 - 0s - loss: 1.0932 - accuracy: 0.4000 - 39ms/epoch - 39ms/step\n",
            "Epoch 26/30\n",
            "1/1 - 0s - loss: 1.0984 - accuracy: 0.4000 - 38ms/epoch - 38ms/step\n",
            "Epoch 27/30\n",
            "1/1 - 0s - loss: 1.0960 - accuracy: 0.3333 - 37ms/epoch - 37ms/step\n",
            "Epoch 28/30\n",
            "1/1 - 0s - loss: 1.0992 - accuracy: 0.3333 - 36ms/epoch - 36ms/step\n",
            "Epoch 29/30\n",
            "1/1 - 0s - loss: 1.0953 - accuracy: 0.3333 - 37ms/epoch - 37ms/step\n",
            "Epoch 30/30\n",
            "1/1 - 0s - loss: 1.0959 - accuracy: 0.3333 - 43ms/epoch - 43ms/step\n"
          ]
        }
      ]
    },
    {
      "cell_type": "code",
      "source": [
        "model.save(\"Customer_Review_Text_Emotion.h5\")"
      ],
      "metadata": {
        "id": "MU2C_Mm9wRc2"
      },
      "execution_count": null,
      "outputs": []
    },
    {
      "cell_type": "code",
      "source": [
        "sentence = [\"Ótimo telefone para comprar. É uma compra incrível com ótima duração da bateria\"]\n",
        "sentence = [\"Ótimo telefone. Bateria de longa duração e visual incrível\"]\n",
        "\n",
        "sentence = [\"Pior fone de ouvido do mundo. O bluetooth também não está funcionando\"]\n",
        "\n",
        "\n",
        "sentence = [\"Você pode procurar uma câmera melhor mas, por este valor, é OK para comprar\"]\n",
        "\n",
        "sequences = tokenizer.texts_to_sequences(sentence)\n",
        "padded = pad_sequences(sequences, maxlen=max_length, padding=padding_type, truncating=trunc_type)\n",
        "result = model.predict(padded)\n",
        "print(result)\n",
        "label = np.argmax(result , axis=1)\n",
        "label = int(label)\n",
        "\n",
        "# encode_emotions = {\"Neutra\": 0, \"Positiva\": 1, \"Negativa\": 2}\n",
        "for emotion in encode_emotions:\n",
        "  if encode_emotions[emotion] == label:\n",
        "    print(f\"sentiment : {emotion} , label : {label}\")"
      ],
      "metadata": {
        "colab": {
          "base_uri": "https://localhost:8080/"
        },
        "id": "jHDgLDzqwK-F",
        "outputId": "51f58be9-c36b-4a8e-9d5b-99cd7d11ed9a"
      },
      "execution_count": null,
      "outputs": [
        {
          "output_type": "stream",
          "name": "stdout",
          "text": [
            "[[0.3343761 0.3428644 0.3227595]]\n",
            "sentiment : Positiva , label : 1\n"
          ]
        }
      ]
    },
    {
      "cell_type": "markdown",
      "source": [
        "**Link da solução do projeto [editor do Visual Studio Code]**\n",
        "\n",
        "1) Link: https://github.com/ByjusBrazil/PRO_1-1_C115_ReferenciaProjetoCodigo\n",
        "\n",
        "2) Consulte o documento do projeto para saber como executar este projeto usando o editor do Visual Studio Code."
      ],
      "metadata": {
        "id": "9Y8uG7DxeB9u"
      }
    }
  ]
}